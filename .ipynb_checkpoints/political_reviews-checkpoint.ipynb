{
 "cells": [
  {
   "cell_type": "code",
   "id": "initial_id",
   "metadata": {
    "collapsed": true,
    "ExecuteTime": {
     "end_time": "2024-06-10T18:02:30.511876Z",
     "start_time": "2024-06-10T18:02:29.446903Z"
    }
   },
   "source": [
    "import nbformat\n",
    "from nbconvert import HTMLExporter\n",
    "import ipywidgets as widgets\n",
    "from IPython.display import display, HTML\n",
    "\n",
    "\n",
    "def convert_notebook_to_html(notebook_filename):\n",
    "    with open(notebook_filename) as f:\n",
    "        notebook_content = nbformat.read(f, as_version=4)\n",
    "    html_exporter = HTMLExporter()\n",
    "    html_data, _ = html_exporter.from_notebook_node(notebook_content)\n",
    "    return html_data\n",
    "\n",
    "\n",
    "notebook1_html = convert_notebook_to_html(\"reviews/the_first_purge.ipynb\")\n",
    "notebook2_html = convert_notebook_to_html(\"reviews/the_first_purge.ipynb\")\n",
    "notebook3_html = convert_notebook_to_html(\"reviews/the_first_purge.ipynb\")\n",
    "\n",
    "tab1_content = widgets.HTML(value=notebook1_html)\n",
    "tab2_content = widgets.HTML(value=notebook2_html)\n",
    "tab3_content = widgets.HTML(value=notebook3_html)\n",
    "\n",
    "tab = widgets.Tab()\n",
    "\n",
    "tab.children = [tab1_content, tab2_content, tab3_content]\n",
    "\n",
    "tab.set_title(0, 'Notebook 1')\n",
    "tab.set_title(1, 'Notebook 2')\n",
    "tab.set_title(2, 'Notebook 3')\n",
    "\n",
    "# Display the tabs\n",
    "display(tab)"
   ],
   "outputs": [
    {
     "data": {
      "text/plain": [
       "Tab(children=(HTML(value='<!DOCTYPE html>\\n\\n<html lang=\"en\">\\n<head><meta charset=\"utf-8\"/>\\n<meta content=\"w…"
      ],
      "application/vnd.jupyter.widget-view+json": {
       "version_major": 2,
       "version_minor": 0,
       "model_id": "742f040b6a5b4a8e9e9bb78fdae39bd7"
      }
     },
     "metadata": {},
     "output_type": "display_data"
    }
   ],
   "execution_count": 3
  },
  {
   "metadata": {},
   "cell_type": "code",
   "outputs": [],
   "execution_count": null,
   "source": "",
   "id": "6b36caa848ca3e00"
  }
 ],
 "metadata": {
  "kernelspec": {
   "display_name": "Python 3",
   "language": "python",
   "name": "python3"
  },
  "language_info": {
   "codemirror_mode": {
    "name": "ipython",
    "version": 2
   },
   "file_extension": ".py",
   "mimetype": "text/x-python",
   "name": "python",
   "nbconvert_exporter": "python",
   "pygments_lexer": "ipython2",
   "version": "2.7.6"
  }
 },
 "nbformat": 4,
 "nbformat_minor": 5
}
