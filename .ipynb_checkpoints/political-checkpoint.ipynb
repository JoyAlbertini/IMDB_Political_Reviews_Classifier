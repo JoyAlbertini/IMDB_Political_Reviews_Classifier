{
 "cells": [
  {
   "cell_type": "code",
   "id": "initial_id",
   "metadata": {
    "collapsed": true,
    "ExecuteTime": {
     "end_time": "2024-06-11T09:38:39.187748Z",
     "start_time": "2024-06-11T09:38:39.185954Z"
    }
   },
   "source": [
    "from nbconvert.preprocessors import ExecutePreprocessor\n",
    "import nbformat\n",
    "from nbconvert import HTMLExporter"
   ],
   "outputs": [],
   "execution_count": 9
  },
  {
   "metadata": {
    "ExecuteTime": {
     "end_time": "2024-06-12T12:09:39.025968Z",
     "start_time": "2024-06-12T12:09:31.712035Z"
    }
   },
   "cell_type": "code",
   "source": [
    "from nbconvert.preprocessors import ExecutePreprocessor\n",
    "import nbformat\n",
    "from nbconvert import HTMLExporter\n",
    "\n",
    "def run_notebook_and_save_html(notebook_path, output_html_path, imdb_id):\n",
    "    with open(notebook_path, 'r', encoding='utf-8') as file:\n",
    "        nb = nbformat.read(file, as_version=4)\n",
    "\n",
    "    # Inject a new cell to define and call set_film at the beginning of the notebook\n",
    "    code = \"\"\"\n",
    "def set_film(ID):\n",
    "    global FILM_ID  # Declare FILM_ID as global if you need to use it outside this function\n",
    "    FILM_ID = ID\n",
    "set_film('{}')\n",
    "\"\"\".format(imdb_id)\n",
    "    new_cell = nbformat.v4.new_code_cell(code)\n",
    "    nb.cells.insert(0, new_cell)\n",
    "\n",
    "    # Configure the processor to execute the notebook\n",
    "    ep = ExecutePreprocessor(timeout=600, kernel_name='python3')\n",
    "\n",
    "    # Execute the notebook\n",
    "    try:\n",
    "        ep.preprocess(nb, {'metadata': {'path': './'}})\n",
    "    except Exception as e:\n",
    "        print(\"Error while executing the notebook:\", str(e))\n",
    "        return\n",
    "\n",
    "    # Remove or hide code cells before converting to HTML\n",
    "    for cell in nb['cells']:\n",
    "        if cell['cell_type'] == 'code':\n",
    "            cell['metadata']['tags'] = ['remove_input']  # Use tag to remove inputs in HTMLExporter\n",
    "\n",
    "    # Convert the executed notebook to HTML with modified template\n",
    "    html_exporter = HTMLExporter()\n",
    "    html_exporter.template_name = 'classic'\n",
    "    html_exporter.exclude_input = True  # Exclude all input cells globally if desired\n",
    "\n",
    "    # Export the notebook to HTML\n",
    "    (body, _) = html_exporter.from_notebook_node(nb)\n",
    "\n",
    "    # Write the HTML output to a file\n",
    "    with open(output_html_path, 'w', encoding='utf-8') as file:\n",
    "        file.write(body)\n",
    "\n",
    "    print(\"Notebook has been processed and the output has been saved to:\", output_html_path)\n",
    "\n",
    "# Example Usage\n",
    "imdb_id = \"tt6133466\"\n",
    "run_notebook_and_save_html(\"political_review_display.ipynb\", \"reviews/the_first_purge.html\", imdb_id)\n"
   ],
   "id": "7b5988b9ce7635b0",
   "outputs": [
    {
     "name": "stdout",
     "output_type": "stream",
     "text": [
      "Notebook has been processed and the output has been saved to: reviews/the_first_purge.html\n"
     ]
    }
   ],
   "execution_count": 11
  },
  {
   "metadata": {},
   "cell_type": "code",
   "source": "",
   "id": "30ade014bb09f317",
   "outputs": [],
   "execution_count": null
  }
 ],
 "metadata": {
  "kernelspec": {
   "display_name": "Python 3",
   "language": "python",
   "name": "python3"
  },
  "language_info": {
   "codemirror_mode": {
    "name": "ipython",
    "version": 2
   },
   "file_extension": ".py",
   "mimetype": "text/x-python",
   "name": "python",
   "nbconvert_exporter": "python",
   "pygments_lexer": "ipython2",
   "version": "2.7.6"
  }
 },
 "nbformat": 4,
 "nbformat_minor": 5
}
